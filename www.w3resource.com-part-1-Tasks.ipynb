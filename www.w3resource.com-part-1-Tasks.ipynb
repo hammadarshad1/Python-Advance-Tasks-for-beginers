{
 "cells": [
  {
   "cell_type": "raw",
   "metadata": {},
   "source": [
    "1. Write a Python program to print the following string in a specific format Sample String : \n",
    "\"Twinkle, twinkle, little star,\n",
    "    How I wonder what you are!\n",
    "        Up above the world so high,\n",
    "        Like a diamond in the sky.\n",
    "Twinkle, twinkle, little star,\n",
    "    How I wonder what you are\""
   ]
  },
  {
   "cell_type": "code",
   "execution_count": 1,
   "metadata": {},
   "outputs": [
    {
     "name": "stdout",
     "output_type": "stream",
     "text": [
      "Twinkle, twinkle, little star,\n",
      "\tHow I wonder what you are!\n",
      "\t\tUp above the world so high,\n",
      "\t\tLike a diamond in the sky.\n",
      "Twinkle, twinkle, little star,\n",
      "\tHow I wonder what you are\n"
     ]
    }
   ],
   "source": [
    "# Solution\n",
    "print('Twinkle, twinkle, little star,\\n\\tHow I wonder what you are!\\n\\t\\tUp above the world so high,\\n\\t\\tLike a diamond in the sky.\\nTwinkle, twinkle, little star,\\n\\tHow I wonder what you are')"
   ]
  },
  {
   "cell_type": "code",
   "execution_count": 2,
   "metadata": {},
   "outputs": [
    {
     "name": "stdout",
     "output_type": "stream",
     "text": [
      "Enter the radius of a circle: 3\n",
      "Area of a circle is 28.274333882308138\n"
     ]
    }
   ],
   "source": [
    "# Write a Python program which accepts the radius of a circle from the user and compute the area.\n",
    "import math as m\n",
    "radius = float(input('Enter the radius of a circle: '))\n",
    "print('Area of a circle is {}'.format(m.pi*radius*radius))"
   ]
  },
  {
   "cell_type": "code",
   "execution_count": 3,
   "metadata": {},
   "outputs": [
    {
     "name": "stdout",
     "output_type": "stream",
     "text": [
      "Enter your first name: Muhammad\n",
      "Enter your last name: Hammad\n",
      "Hello Hammad Muhammad\n"
     ]
    }
   ],
   "source": [
    "# Write a Python program which accepts the user's first and last name and print them in reverse order with a space between them.\n",
    "fname = input('Enter your first name: ')\n",
    "lname = input('Enter your last name: ')\n",
    "print('Hello', lname, fname)"
   ]
  },
  {
   "cell_type": "code",
   "execution_count": 4,
   "metadata": {},
   "outputs": [
    {
     "name": "stdout",
     "output_type": "stream",
     "text": [
      "Enter the Sequence with seperated commas: 3,4,5,6\n",
      "List = ['3', '4', '5', '6']\n",
      "Tuple = ('3', '4', '5', '6')\n"
     ]
    }
   ],
   "source": [
    "# Write a Python program which accepts a sequence of comma-separated numbers from user and generate a list and a tuple with those numbers.\n",
    "seq = input('Enter the Sequence with seperated commas: ')\n",
    "list = seq.split(\",\")\n",
    "tup = tuple(list)\n",
    "print('List = {}\\nTuple = {}'.format(list, tup))"
   ]
  },
  {
   "cell_type": "code",
   "execution_count": 5,
   "metadata": {},
   "outputs": [
    {
     "name": "stdout",
     "output_type": "stream",
     "text": [
      "Red Black\n"
     ]
    }
   ],
   "source": [
    "# Write a Python program to display the first and last colors from the following list: color_list = [\"Red\",\"Green\",\"White\" ,\"Black\"]\n",
    "color_list = [\"Red\",\"Green\",\"White\" ,\"Black\"]\n",
    "print(color_list[0], color_list[-1])"
   ]
  },
  {
   "cell_type": "code",
   "execution_count": 6,
   "metadata": {},
   "outputs": [
    {
     "name": "stdout",
     "output_type": "stream",
     "text": [
      "Examination will starts from 11 / 12 / 2014\n"
     ]
    }
   ],
   "source": [
    "# Write a Python program to display the examination schedule. (extract the date from exam_st_date).\n",
    "exam_st_date = (11, 12, 2014)\n",
    "print(\"Examination will starts from %i / %i / %i\"%exam_st_date)"
   ]
  },
  {
   "cell_type": "code",
   "execution_count": 7,
   "metadata": {},
   "outputs": [
    {
     "name": "stdout",
     "output_type": "stream",
     "text": [
      "Enter the value of n: 5\n",
      "615\n"
     ]
    }
   ],
   "source": [
    "# Write a Python program that accepts an integer (n) and computes the value of n+nn+nnn\n",
    "n = int(input(\"Enter the value of n: \"))\n",
    "total = 5 + 5*11 + 5*111\n",
    "print(total)"
   ]
  },
  {
   "cell_type": "code",
   "execution_count": 8,
   "metadata": {},
   "outputs": [
    {
     "name": "stdout",
     "output_type": "stream",
     "text": [
      "Input Year: 2019\n",
      "Input Month: 6\n",
      "     June 2019\n",
      "Mo Tu We Th Fr Sa Su\n",
      "                1  2\n",
      " 3  4  5  6  7  8  9\n",
      "10 11 12 13 14 15 16\n",
      "17 18 19 20 21 22 23\n",
      "24 25 26 27 28 29 30\n",
      "\n"
     ]
    }
   ],
   "source": [
    "# Write a Python program to print the calendar of a given month and year. Note : Use 'calendar' module.\n",
    "import calendar as c\n",
    "y = int(input(\"Input Year: \"))\n",
    "m = int(input(\"Input Month: \"))\n",
    "print(c.month(y, m))"
   ]
  },
  {
   "cell_type": "code",
   "execution_count": 9,
   "metadata": {},
   "outputs": [
    {
     "name": "stdout",
     "output_type": "stream",
     "text": [
      "9 Days\n"
     ]
    }
   ],
   "source": [
    "# Write a Python program to calculate number of days between two dates\n",
    "from datetime import date\n",
    "f_date = date(2014, 7, 2)\n",
    "l_date = date(2014, 7, 11)\n",
    "delta = l_date - f_date\n",
    "print(delta.days, \"Days\")"
   ]
  },
  {
   "cell_type": "code",
   "execution_count": 10,
   "metadata": {},
   "outputs": [
    {
     "name": "stdout",
     "output_type": "stream",
     "text": [
      "904.7786842338603\n"
     ]
    }
   ],
   "source": [
    "# Write a Python program to get the volume of a sphere with radius 6\n",
    "import math as m\n",
    "radius = 6\n",
    "volume = (4/3) * m.pi * pow(radius,3)\n",
    "print(volume)"
   ]
  },
  {
   "cell_type": "code",
   "execution_count": 11,
   "metadata": {},
   "outputs": [
    {
     "name": "stdout",
     "output_type": "stream",
     "text": [
      "Enter the number: 13\n",
      "4\n"
     ]
    }
   ],
   "source": [
    "# Write a Python program to get the difference between a given number and 17, if the number is greater than 17 return double the absolute difference\n",
    "a = 17\n",
    "b = int(input('Enter the number: '))\n",
    "if b>a:\n",
    "    print(b-a)\n",
    "else:\n",
    "    print(abs(b-a))"
   ]
  },
  {
   "cell_type": "code",
   "execution_count": 12,
   "metadata": {},
   "outputs": [
    {
     "name": "stdout",
     "output_type": "stream",
     "text": [
      "3\n"
     ]
    }
   ],
   "source": [
    "# Write a Python program to count the number 4 in a given list\n",
    "li = [4, 5, 4, 3, 4]\n",
    "count = 0\n",
    "for e in li:\n",
    "    if e==4:\n",
    "        count+=1\n",
    "print(count)"
   ]
  },
  {
   "cell_type": "code",
   "execution_count": 13,
   "metadata": {},
   "outputs": [
    {
     "name": "stdout",
     "output_type": "stream",
     "text": [
      "Enter the number: 3\n",
      "3 is Odd!\n"
     ]
    }
   ],
   "source": [
    "# Write a Python program to find whether a given number (accept from the user) is even or odd, print out an appropriate message to the user\n",
    "number = int(input('Enter the number: '))\n",
    "if number%2 == 0:\n",
    "    print('{} is Even!'.format(number))\n",
    "else:\n",
    "    print('{} is Odd!'.format(number))"
   ]
  },
  {
   "cell_type": "code",
   "execution_count": 14,
   "metadata": {},
   "outputs": [
    {
     "name": "stdout",
     "output_type": "stream",
     "text": [
      "Enter the character: T\n",
      "Entered Character is COnsonant!\n"
     ]
    }
   ],
   "source": [
    "# Write a Python program to test whether a passed letter is a vowel or not.\n",
    "char = input('Enter the character: ')\n",
    "if char == \"A\" or char == \"a\" or char == \"E\" or char == \"e\" or char == \"I\" or char == \"i\" or char == \"O\" or char == \"o\" or char == \"U\" or char == \"u\":\n",
    "    print('Entered Character is Vowel!')\n",
    "else:\n",
    "    print('Entered Character is COnsonant!')"
   ]
  },
  {
   "cell_type": "code",
   "execution_count": 15,
   "metadata": {},
   "outputs": [
    {
     "name": "stdout",
     "output_type": "stream",
     "text": [
      "386\n",
      "462\n",
      "418\n",
      "344\n",
      "236\n",
      "566\n",
      "978\n",
      "328\n",
      "162\n",
      "758\n",
      "918\n"
     ]
    }
   ],
   "source": [
    "# Write a Python program to print all even numbers from a given numbers list in the same order and stop the printing if any numbers that come after 237 in the sequence.\n",
    "numbers = [    \n",
    "    386, 462, 47, 418, 907, 344, 236, 375, 823, 566, 597, 978, 328, 615, 953, 345, \n",
    "    399, 162, 758, 219, 918, 237, 412, 566, 826, 248, 866, 950, 626, 949, 687, 217, \n",
    "    815, 67, 104, 58, 512, 24, 892, 894, 767, 553, 81, 379, 843, 831, 445, 742, 717, \n",
    "    958,743, 527\n",
    "    ]\n",
    "for e in numbers:\n",
    "    if e%2 == 0:\n",
    "        print(e)\n",
    "    elif e==237:\n",
    "        break"
   ]
  },
  {
   "cell_type": "code",
   "execution_count": 16,
   "metadata": {},
   "outputs": [
    {
     "name": "stdout",
     "output_type": "stream",
     "text": [
      "Enter the base of the Triangle: 3\n",
      "Enter the height of the Triangle: 5\n",
      "Area is 15.0\n"
     ]
    }
   ],
   "source": [
    "# Write a Python program that will accept the base and height of a triangle and compute the area.\n",
    "base = float(input(\"Enter the base of the Triangle: \"))\n",
    "height = float(input(\"Enter the height of the Triangle: \"))\n",
    "\n",
    "print('Area is {}'.format(base*height))"
   ]
  },
  {
   "cell_type": "code",
   "execution_count": 17,
   "metadata": {},
   "outputs": [
    {
     "name": "stdout",
     "output_type": "stream",
     "text": [
      "Enter the 1st value: 10\n",
      "Enter the 2nd value: 6\n",
      "Sum is 20\n"
     ]
    }
   ],
   "source": [
    "# Write a Python program to sum of two given integers. However, if the sum is between 15 to 20 it will return 20.\n",
    "a = int(input('Enter the 1st value: '))\n",
    "b = int(input('Enter the 2nd value: '))\n",
    "if a+b>=15 and a+b<=20:\n",
    "    print('Sum is 20')\n",
    "else:\n",
    "    print('Sum is', a+b)"
   ]
  },
  {
   "cell_type": "code",
   "execution_count": 18,
   "metadata": {},
   "outputs": [
    {
     "name": "stdout",
     "output_type": "stream",
     "text": [
      "Enter the value of X: 4\n",
      "Enter the value of Y: 3\n",
      "49\n"
     ]
    }
   ],
   "source": [
    "# Write a Python program to solve (x + y) * (x + y)\n",
    "x = int(input('Enter the value of X: '))\n",
    "y = int(input('Enter the value of Y: '))\n",
    "print(pow(x+y,2))"
   ]
  },
  {
   "cell_type": "code",
   "execution_count": 19,
   "metadata": {},
   "outputs": [
    {
     "name": "stdout",
     "output_type": "stream",
     "text": [
      "\n",
      "Name: Muhammad Hammad\n",
      "Age: 20\n",
      "Address: Agra taj colony lyari, Karachi, Pakistan\n",
      "\n"
     ]
    }
   ],
   "source": [
    "# Write a Python program to display your details like name, age, address in three different lines. \n",
    "print(\"\"\"\n",
    "Name: Muhammad Hammad\n",
    "Age: 20\n",
    "Address: Agra taj colony lyari, Karachi, Pakistan\n",
    "\"\"\")"
   ]
  },
  {
   "cell_type": "code",
   "execution_count": 20,
   "metadata": {},
   "outputs": [
    {
     "name": "stdout",
     "output_type": "stream",
     "text": [
      "Enter 1st Number: -2\n",
      "Enter 2nd Number: 3\n",
      "True\n"
     ]
    }
   ],
   "source": [
    "# Write a Python program that will return true if the two given integer values are equal or their sum or difference is 5.\n",
    "a = int(input('Enter 1st Number: '))\n",
    "b = int(input('Enter 2nd Number: '))\n",
    "if a+b == 5 or abs(a-b) == 5:\n",
    "    print('True')\n",
    "else:\n",
    "    print('False')"
   ]
  },
  {
   "cell_type": "code",
   "execution_count": 21,
   "metadata": {},
   "outputs": [
    {
     "name": "stdout",
     "output_type": "stream",
     "text": [
      "Enter the number to search in a list: 4\n",
      "Serach Successfull your Value index is 3\n"
     ]
    }
   ],
   "source": [
    "# Write a Python program to check whether a specified value is contained in a group of values.\n",
    "li = [1,2,3,4,5]\n",
    "n = int(input(\"Enter the number to search in a list: \"))\n",
    "for e in li:\n",
    "    if e==n:\n",
    "        print(\"Serach Successfull your Value index is\",li.index(e))"
   ]
  },
  {
   "cell_type": "code",
   "execution_count": 22,
   "metadata": {},
   "outputs": [
    {
     "name": "stdout",
     "output_type": "stream",
     "text": [
      "Enter hours to convert into seconds: 1\n",
      "Enter minutes to convert into seconds: 1\n",
      "Enter days to convert into seconds: 1\n",
      "Hour to seconds is 3600.0 \n",
      "Minutes to Second is 60.0 \n",
      "Days to Second is 86400.0\n"
     ]
    }
   ],
   "source": [
    "# Write a Python program to convert all units of time into seconds.\n",
    "hours = float(input(\"Enter hours to convert into seconds: \"))\n",
    "minutes = float(input(\"Enter minutes to convert into seconds: \"))\n",
    "days = float(input(\"Enter days to convert into seconds: \"))\n",
    "\n",
    "print(\"Hour to seconds is\",hours*60*60,'\\nMinutes to Second is',minutes*60,'\\nDays to Second is',days*24*60*60)"
   ]
  },
  {
   "cell_type": "code",
   "execution_count": 23,
   "metadata": {},
   "outputs": [
    {
     "name": "stdout",
     "output_type": "stream",
     "text": [
      "30+20=50\n"
     ]
    }
   ],
   "source": [
    "# Given variables x=30 and y=20, write a Python program to print t \"30+20=50\"\n",
    "x = 30\n",
    "y = 20\n",
    "print('{}+{}={}'.format(x,y,x+y))"
   ]
  },
  {
   "cell_type": "code",
   "execution_count": 24,
   "metadata": {},
   "outputs": [
    {
     "name": "stdout",
     "output_type": "stream",
     "text": [
      "Numeric\n"
     ]
    }
   ],
   "source": [
    "# Write a Python program to check if a string is numeric\n",
    "st = '12345'\n",
    "if st.isnumeric:\n",
    "    print(\"Numeric\")\n",
    "else:\n",
    "    print(\"Not numeric!\")"
   ]
  },
  {
   "cell_type": "code",
   "execution_count": 25,
   "metadata": {},
   "outputs": [
    {
     "name": "stdout",
     "output_type": "stream",
     "text": [
      "True is 1\n",
      "False is 0\n"
     ]
    }
   ],
   "source": [
    "# Write a Python program to convert an integer to binary keep leading zeros\n",
    "print('True is', int(True))\n",
    "print('False is', int(False))"
   ]
  },
  {
   "cell_type": "code",
   "execution_count": 26,
   "metadata": {},
   "outputs": [
    {
     "name": "stdout",
     "output_type": "stream",
     "text": [
      "Enter the string to check if lowercase is in or not: king\n",
      "Yes!\n"
     ]
    }
   ],
   "source": [
    "# Write a Python program to check if lowercase letters exist in a string\n",
    "st = input('Enter the string to check if lowercase is in or not: ')\n",
    "if st.islower() == True:\n",
    "    print('Yes!')\n",
    "else:\n",
    "    print('No!')"
   ]
  },
  {
   "cell_type": "code",
   "execution_count": 27,
   "metadata": {},
   "outputs": [
    {
     "name": "stdout",
     "output_type": "stream",
     "text": [
      "Enter the number: 4\n",
      "positive!\n"
     ]
    }
   ],
   "source": [
    "# Write a Python program to check if a number is positive, negative or zero.\n",
    "n = int(input('Enter the number: '))\n",
    "if n > 0:\n",
    "    print('positive!')\n",
    "elif n < 0:\n",
    "    print('Negative!')\n",
    "else:\n",
    "    print('Zero!')"
   ]
  },
  {
   "cell_type": "code",
   "execution_count": 28,
   "metadata": {},
   "outputs": [
    {
     "name": "stdout",
     "output_type": "stream",
     "text": [
      "Enter value of a: 2\n",
      "Enter value of b: 3\n",
      "a = 3\n",
      "b = 2\n"
     ]
    }
   ],
   "source": [
    "# Write a Python program to swap two variables.\n",
    "a = int(input('Enter value of a: '))\n",
    "b = int(input('Enter value of b: '))\n",
    "temp=a\n",
    "a=b\n",
    "b=temp\n",
    "print('a = {}\\nb = {}'.format(a,b))"
   ]
  },
  {
   "cell_type": "code",
   "execution_count": 1,
   "metadata": {},
   "outputs": [
    {
     "name": "stdout",
     "output_type": "stream",
     "text": [
      "True\n",
      "False\n",
      "True\n"
     ]
    }
   ],
   "source": [
    "# Write a Python program to test whether a number is within 100 of 1000 or 2000.\n",
    "def near_thousand(n):\n",
    "    return((abs(1000-n)<=100) or (abs(2000-n)<=100))\n",
    "print(near_thousand(900))\n",
    "print(near_thousand(800))\n",
    "print(near_thousand(1000))"
   ]
  },
  {
   "cell_type": "code",
   "execution_count": 4,
   "metadata": {},
   "outputs": [
    {
     "name": "stdout",
     "output_type": "stream",
     "text": [
      "Enter the value of a: 3\n",
      "Enter the value of b: 3\n",
      "Enter the value of c: 3\n",
      "27\n"
     ]
    }
   ],
   "source": [
    "# Write a Python program to calculate the sum of three given numbers, if the values are equal then return thrice of their sum.\n",
    "def sum(x,y,z):\n",
    "    if x == y == z:\n",
    "        print((x+y+z)*3)\n",
    "    else:\n",
    "        print(x+y+z)\n",
    "a = int(input('Enter the value of a: '))\n",
    "b = int(input('Enter the value of b: '))\n",
    "c = int(input('Enter the value of c: '))\n",
    "sum(a,b,c)"
   ]
  },
  {
   "cell_type": "code",
   "execution_count": 6,
   "metadata": {},
   "outputs": [
    {
     "name": "stdout",
     "output_type": "stream",
     "text": [
      "IsHammad\n",
      "IsSameer\n"
     ]
    }
   ],
   "source": [
    "# Write a Python program to get a new string from a given string where \"Is\" has been added to the front. If the given string already begins with \"Is\" then return the string unchanged.\n",
    "def string(str):\n",
    "    if len(str) >= 2 and str[:2] == \"Is\":\n",
    "        return str\n",
    "    else:\n",
    "        return 'Is' + str\n",
    "print(string(\"Hammad\"))\n",
    "print(string(\"IsSameer\"))"
   ]
  },
  {
   "cell_type": "code",
   "execution_count": 10,
   "metadata": {},
   "outputs": [
    {
     "name": "stdout",
     "output_type": "stream",
     "text": [
      "Enter the string: hi\n",
      "How many copies do you want!: 3\n",
      "hihihi\n"
     ]
    }
   ],
   "source": [
    "# Write a Python program to get a string which is n (non-negative integer) copies of a given string.\n",
    "def copies(str, copy):\n",
    "    result = ''\n",
    "    for e in range(copy):\n",
    "        result = result+str\n",
    "    print(result)\n",
    "\n",
    "str = input('Enter the string: ')\n",
    "copy = int(input('How many copies do you want!: '))\n",
    "copies(str,copy)"
   ]
  },
  {
   "cell_type": "code",
   "execution_count": 14,
   "metadata": {},
   "outputs": [
    {
     "name": "stdout",
     "output_type": "stream",
     "text": [
      "Enter the string: hammad\n",
      "haha\n"
     ]
    }
   ],
   "source": [
    "# Write a Python program to get the n (non-negative integer) copies of the first 2 characters of a given string. Return the n copies of the whole string if the length is less than 2.\n",
    "def copies(str):\n",
    "    result = ''\n",
    "    c = str[:2]\n",
    "    for i in range(2):\n",
    "        result = result + c\n",
    "    print(result)\n",
    "    \n",
    "str = input('Enter the string: ')\n",
    "copies(str)"
   ]
  },
  {
   "cell_type": "code",
   "execution_count": 1,
   "metadata": {},
   "outputs": [
    {
     "name": "stdout",
     "output_type": "stream",
     "text": [
      "[4, 5, 6, 7]\n"
     ]
    }
   ],
   "source": [
    "# Write a Python program to remove the first item from a specified list.\n",
    "li = [3,4,5,6,7]\n",
    "li.pop(0)\n",
    "print(li)"
   ]
  },
  {
   "cell_type": "code",
   "execution_count": 7,
   "metadata": {},
   "outputs": [
    {
     "name": "stdout",
     "output_type": "stream",
     "text": [
      "All positive number from list is:  2 8 10 5\n"
     ]
    }
   ],
   "source": [
    "# Write a Python program to filter the positive numbers from a list.\n",
    "li = [-1,2,-6,8,-9,10,-2,5]\n",
    "po = []\n",
    "for e in li:\n",
    "    if e > 0:\n",
    "       po.append(e)\n",
    "print('All positive number from list is: ',*po)"
   ]
  },
  {
   "cell_type": "code",
   "execution_count": 14,
   "metadata": {},
   "outputs": [
    {
     "name": "stdout",
     "output_type": "stream",
     "text": [
      "This String is in Double quotes! \n"
     ]
    }
   ],
   "source": [
    "# Write a Python program to use double quotes to display strings.\n",
    "print(\"This String is in Double quotes! \")"
   ]
  },
  {
   "cell_type": "code",
   "execution_count": 17,
   "metadata": {},
   "outputs": [
    {
     "name": "stdout",
     "output_type": "stream",
     "text": [
      "Enter the value of a: 4\n",
      "Enter the value of b: 2\n",
      "4 is divisible by 2\n"
     ]
    }
   ],
   "source": [
    "# Write a Python function to check whether a number is divisible by another number. Accept two integers values form the user\n",
    "def divisible(x,y):\n",
    "    if x%y == 0:\n",
    "        print('{} is divisible by {}'.format(x,y))\n",
    "    else:\n",
    "        print('{} is not divisible by {}'.format(x,y))\n",
    "    \n",
    "a = int(input('Enter the value of a: '))\n",
    "b = int(input('Enter the value of b: '))\n",
    "divisible(a,b)"
   ]
  },
  {
   "cell_type": "code",
   "execution_count": 8,
   "metadata": {},
   "outputs": [
    {
     "name": "stdout",
     "output_type": "stream",
     "text": [
      "*****\n",
      "****\n",
      "******\n",
      "**\n"
     ]
    }
   ],
   "source": [
    "# Write a Python program to create a histogram from a given list of integers\n",
    "def histogram(items):\n",
    "    for n in items:\n",
    "        result = ''\n",
    "        counter = n\n",
    "        while counter > 0:\n",
    "            result += '*'\n",
    "            counter -= 1\n",
    "        print(result)\n",
    "histogram([5,4,6,2])"
   ]
  },
  {
   "cell_type": "code",
   "execution_count": 10,
   "metadata": {},
   "outputs": [
    {
     "name": "stdout",
     "output_type": "stream",
     "text": [
      "234512\n"
     ]
    }
   ],
   "source": [
    "# Write a Python program to concatenate all elements in a list into a string and return it.\n",
    "def concatenate(items):\n",
    "    result = ''\n",
    "    for n in items:\n",
    "        result = result + str(n)\n",
    "    print(result)\n",
    "li = [2,3,4,5,12]\n",
    "concatenate(li)"
   ]
  },
  {
   "cell_type": "code",
   "execution_count": 11,
   "metadata": {},
   "outputs": [
    {
     "name": "stdout",
     "output_type": "stream",
     "text": [
      "{'White', 'Black'}\n"
     ]
    }
   ],
   "source": [
    "#Write a Python program to print out a set containing all the colors from color_list_1 which are not present in color_list_2. Go to the editor\n",
    "# Test Data : \n",
    "# color_list_1 = set([\"White\", \"Black\", \"Red\"]) \n",
    "# color_list_2 = set([\"Red\", \"Green\"])\n",
    "# Expected Output : \n",
    "# {'Black', 'White'}\n",
    "\n",
    "color_list_1 = set([\"White\", \"Black\", \"Red\"]) \n",
    "color_list_2 = set([\"Red\", \"Green\"])\n",
    "print(color_list_1.difference(color_list_2))"
   ]
  },
  {
   "cell_type": "code",
   "execution_count": 19,
   "metadata": {},
   "outputs": [
    {
     "name": "stdout",
     "output_type": "stream",
     "text": [
      "7\n"
     ]
    }
   ],
   "source": [
    "# Write a Python program to add two objects if both objects are an integer type.\n",
    "def check_int(n1,n2):\n",
    "    if not(isinstance(n1,int) and isinstance(n2,int)):\n",
    "        raise TypeError('Value must be integer!')\n",
    "    return (n1+n2)\n",
    "print(check_int(2,5))"
   ]
  },
  {
   "cell_type": "code",
   "execution_count": 21,
   "metadata": {},
   "outputs": [
    {
     "name": "stdout",
     "output_type": "stream",
     "text": [
      "12722.792627665729\n"
     ]
    }
   ],
   "source": [
    "# Write a Python program to compute the future value of a specified principal amount, rate of interest, and a number of years.\n",
    "amount = 10000\n",
    "int = 3.5\n",
    "years = 7\n",
    "\n",
    "print(amount * (1 + (0.01 * int)) ** years)"
   ]
  },
  {
   "cell_type": "code",
   "execution_count": 22,
   "metadata": {},
   "outputs": [
    {
     "name": "stdout",
     "output_type": "stream",
     "text": [
      "Enter file name with extension: hammad.txt\n",
      "File is not Exist!\n"
     ]
    }
   ],
   "source": [
    "# Write a Python program to check whether a file exists.\n",
    "fname = input('Enter file name with extension: ')\n",
    "try:\n",
    "    open(fname)\n",
    "    print('File Exist!')\n",
    "except FileNotFoundError:\n",
    "    print('File is not Exist!')"
   ]
  },
  {
   "cell_type": "code",
   "execution_count": 24,
   "metadata": {},
   "outputs": [
    {
     "name": "stdout",
     "output_type": "stream",
     "text": [
      "12.34\n"
     ]
    }
   ],
   "source": [
    "# Write a Python program to parse a string to Float or Integer.\n",
    "st = '12.34'\n",
    "print(float(st))"
   ]
  },
  {
   "cell_type": "code",
   "execution_count": null,
   "metadata": {},
   "outputs": [],
   "source": []
  }
 ],
 "metadata": {
  "kernelspec": {
   "display_name": "Python 3",
   "language": "python",
   "name": "python3"
  },
  "language_info": {
   "codemirror_mode": {
    "name": "ipython",
    "version": 3
   },
   "file_extension": ".py",
   "mimetype": "text/x-python",
   "name": "python",
   "nbconvert_exporter": "python",
   "pygments_lexer": "ipython3",
   "version": "3.7.3"
  }
 },
 "nbformat": 4,
 "nbformat_minor": 2
}
